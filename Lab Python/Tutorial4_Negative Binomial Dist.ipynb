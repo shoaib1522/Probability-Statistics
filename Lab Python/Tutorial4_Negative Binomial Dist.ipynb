{
 "cells": [
  {
   "cell_type": "markdown",
   "id": "02c9936f",
   "metadata": {},
   "source": [
    "# A couple decides they will continue to have children until they have two males. Assuming that P(male) = 0.5, what is the probability that their second male is their fourth child?\n"
   ]
  },
  {
   "cell_type": "code",
   "execution_count": 19,
   "id": "26e42ae8",
   "metadata": {},
   "outputs": [
    {
     "name": "stdout",
     "output_type": "stream",
     "text": [
      "The probability that their second male is their fourth child is 0.1875\n"
     ]
    }
   ],
   "source": [
    "import scipy.stats as stats\n",
    "# is the number of successes (in this case, the second male child).\n",
    "k = 2 \n",
    "# is the number of failures before success (in this case, 2).\n",
    "n = 2\n",
    "#Probability of success(having a male child)\n",
    "p = 0.5\n",
    "#Probability\n",
    "probability = stats.nbinom.pmf(k, n, p)\n",
    "#Print\n",
    "print(f\"The probability that their second male is their fourth child is {probability:.4f}\")\n"
   ]
  },
  {
   "cell_type": "code",
   "execution_count": null,
   "id": "32dcd7b9",
   "metadata": {},
   "outputs": [],
   "source": []
  }
 ],
 "metadata": {
  "kernelspec": {
   "display_name": "Python 3 (ipykernel)",
   "language": "python",
   "name": "python3"
  },
  "language_info": {
   "codemirror_mode": {
    "name": "ipython",
    "version": 3
   },
   "file_extension": ".py",
   "mimetype": "text/x-python",
   "name": "python",
   "nbconvert_exporter": "python",
   "pygments_lexer": "ipython3",
   "version": "3.9.12"
  }
 },
 "nbformat": 4,
 "nbformat_minor": 5
}
