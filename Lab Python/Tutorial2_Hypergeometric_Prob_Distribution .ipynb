{
 "cells": [
  {
   "cell_type": "markdown",
   "metadata": {},
   "source": [
    "# Hypergeometric Distribution\n",
    "\n",
    "** Suppose we randomly select 5 cards without replacement from an ordinary deck of playing cards. What is the probability of getting exactly 2 red cards? \n",
    "N = 52; since there are 52 cards in a deck. \n",
    "k = 26; since there are 26 red cards in a deck. \n",
    "n = 5; since we randomly select 5 cards from the deck. \n",
    "x = 2; since 2 of the cards we select are red. **\n"
   ]
  },
  {
   "cell_type": "code",
   "execution_count": 34,
   "metadata": {},
   "outputs": [
    {
     "name": "stdout",
     "output_type": "stream",
     "text": [
      "Probability is : 0.3251\n"
     ]
    }
   ],
   "source": [
    "from scipy.stats import hypergeom\n",
    "\n",
    "\n",
    "N = 52                      # Total number of cards       \n",
    "\n",
    "n = 5                       # Total number of cards randomly selected    \n",
    "\n",
    "k = 26                      # Since there are 26 red cards\n",
    "\n",
    "x = 2                       # Since we want to compute the probability of two red cards\n",
    "\n",
    "prob = round(hypergeom.pmf(x, N, n, k), 4)      # Compute probabilites corresponding to random variable x\n",
    "\n",
    "print('Probability is :', prob)\n",
    "\n"
   ]
  },
  {
   "cell_type": "markdown",
   "metadata": {},
   "source": [
    "** Example Suppose that a shipment contains 5  defective items  and 10 non defective items. If 7 items  are selected at random without replacement, what is the probability distribution of defective items? **\n",
    "\n",
    "\n",
    "**h(x; N, n, k) = (kCx) x (N−kCn−x) /NCn  , max{0, n-(N-k)} ≤ x ≤ min{n, k}**"
   ]
  },
  {
   "cell_type": "code",
   "execution_count": 31,
   "metadata": {},
   "outputs": [
    {
     "name": "stdout",
     "output_type": "stream",
     "text": [
      "lLimit:  0\n",
      "uLimit:  5\n",
      "Sum of Probability is:   1.0\n"
     ]
    },
    {
     "data": {
      "image/png": "[encoded data removed]",
      "text/plain": [
       "<matplotlib.figure.Figure at 0x1cc3447bda0>"
      ]
     },
     "metadata": {},
     "output_type": "display_data"
    }
   ],
   "source": [
    "import numpy as np\n",
    "import matplotlib.pyplot as plt\n",
    "from scipy.stats import hypergeom\n",
    "\n",
    "[N, n, k] = [15, 7, 5]\n",
    "lLimit = max(0, n-(N-k))\n",
    "print('lLimit: ', lLimit)\n",
    "uLimit = min(n, k)\n",
    "print('uLimit: ', uLimit)\n",
    "rv = hypergeom(N, n, k)\n",
    "x = np.arange(lLimit, uLimit + 1)\n",
    "probability = rv.pmf(x)\n",
    "print('Sum of Probability is:  ', sum(probability))\n",
    "fig = plt.figure()\n",
    "ax = fig.add_subplot(111)\n",
    "ax.plot(x, probability, 'bo')\n",
    "ax.vlines(x, 0, probability, lw = 2)\n",
    "ax.set_xlabel('Number of defective items')\n",
    "ax.set_ylabel('Probability')\n",
    "plt.show()"
   ]
  },
  {
   "cell_type": "code",
   "execution_count": null,
   "metadata": {
    "collapsed": true
   },
   "outputs": [],
   "source": []
  }
 ],
 "metadata": {
  "kernelspec": {
   "display_name": "Python 3 (ipykernel)",
   "language": "python",
   "name": "python3"
  },
  "language_info": {
   "codemirror_mode": {
    "name": "ipython",
    "version": 3
   },
   "file_extension": ".py",
   "mimetype": "text/x-python",
   "name": "python",
   "nbconvert_exporter": "python",
   "pygments_lexer": "ipython3",
   "version": "3.9.12"
  }
 },
 "nbformat": 4,
 "nbformat_minor": 2
}
