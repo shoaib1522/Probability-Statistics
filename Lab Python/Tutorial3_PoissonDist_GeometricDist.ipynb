{
 "cells": [
  {
   "cell_type": "markdown",
   "metadata": {},
   "source": [
    "# Poisson Distribtuion\n",
    "\n",
    "**Example: Changes in airport procedures require considerable planning. Arrival rates of aircraft are important factors that must be taken into account. Suppose small aircraft arrive at a certain airport, according to a Poisson process, at the rate of 6 per hour. Thus the Poisson parameter for arrivals for a period of hours is λ= 6.**\n",
    "\n",
    "\n",
    "\n",
    "\n",
    "\n"
   ]
  },
  {
   "cell_type": "markdown",
   "metadata": {},
   "source": [
    "** (a) What is the probability that exactly 4 small aircraft  arrive during a 1-hour period?**"
   ]
  },
  {
   "cell_type": "code",
   "execution_count": 1,
   "metadata": {},
   "outputs": [
    {
     "name": "stdout",
     "output_type": "stream",
     "text": [
      "Probability that exactly 4 small aircraft arrive during a 1-hour periods : 0.1339\n"
     ]
    }
   ],
   "source": [
    "from scipy.stats import  poisson\n",
    "mu = 6                                   # Aveage number of aircrafts arrive per hour       \n",
    "x = 4                                    # Let x deontes number of aircrafts arrive during a 1-hour period\n",
    "prob = round(poisson.pmf(x, mu), 4)      # Compute probabilites corresponding to random variable x\n",
    "print('Probability that exactly 4 small aircraft arrive during a 1-hour periods :', prob)\n"
   ]
  },
  {
   "cell_type": "markdown",
   "metadata": {},
   "source": [
    "(b) What is the probability that at least 4 arrive during a  1-hour period?"
   ]
  },
  {
   "cell_type": "code",
   "execution_count": 2,
   "metadata": {},
   "outputs": [
    {
     "name": "stdout",
     "output_type": "stream",
     "text": [
      "Probability that at least 4 arrive during a1-hour period: 0.8488\n"
     ]
    }
   ],
   "source": [
    "x = [0, 1, 2, 3]                                    # Let x deontes number of aircrafts arrive during a 1-hour period\n",
    "prob = 1 - round(sum(poisson.pmf(x, mu)), 4)         # Compute probabilites corresponding to random variable x\n",
    "print('Probability that at least 4 arrive during a1-hour period:', prob)\n"
   ]
  },
  {
   "cell_type": "markdown",
   "metadata": {},
   "source": [
    "(c) If we define a working day as 12 hours, what is the probability that at least 75 small aircraft arrive during a day?"
   ]
  },
  {
   "cell_type": "code",
   "execution_count": 3,
   "metadata": {},
   "outputs": [
    {
     "name": "stdout",
     "output_type": "stream",
     "text": [
      "Probability that at least 75 small aircraft arrive during a day: 0.3773\n"
     ]
    }
   ],
   "source": [
    "mu =  12 * 6\n",
    "#x = range(0, 75)                                    # Let x deontes number of aircrafts arrive during a 1-hour period\n",
    "x = list(range(0, 75))\n",
    "#print(x)                                            # debugging\n",
    "prob =1 - round(sum(poisson.pmf(x, mu)), 4)\n",
    "print('Probability that at least 75 small aircraft arrive during a day:', prob)"
   ]
  },
  {
   "cell_type": "markdown",
   "metadata": {
    "collapsed": true
   },
   "source": [
    "# Geometric Distribution"
   ]
  },
  {
   "cell_type": "markdown",
   "metadata": {
    "collapsed": true
   },
   "source": [
    "Example: In a certain manufacturing process it is known that, on the average, 1 in every 100, items is defective. What is the probability that the fifth item inspected is the first defective item found?\n"
   ]
  },
  {
   "cell_type": "code",
   "execution_count": 4,
   "metadata": {},
   "outputs": [
    {
     "name": "stdout",
     "output_type": "stream",
     "text": [
      "The probability that the fifth item inspected is the first defective item found : 0.0096\n"
     ]
    }
   ],
   "source": [
    "from scipy.stats import  geom\n",
    "p = 1/100                               # Probability of defective       \n",
    "x = 5                                  # Let x deontes number of attempts to detect first defective item\n",
    "prob = round(geom.pmf(x, p), 4)      # Compute probabilites corresponding to random variable x\n",
    "print('The probability that the fifth item inspected is the first defective item found :', prob)\n"
   ]
  },
  {
   "cell_type": "markdown",
   "metadata": {},
   "source": [
    "Example: At “busy time” a telephone exchange is very near capacity, so callers have difficulty placing their calls. It may be of interest to know the number of attempts necessary in order to gain a connection. Suppose that we let p = 0.05 be the probability of a connection during busy time. We are interested in knowing the probability that 5 attempts are necessary for a successful call.\n"
   ]
  },
  {
   "cell_type": "code",
   "execution_count": 5,
   "metadata": {},
   "outputs": [
    {
     "name": "stdout",
     "output_type": "stream",
     "text": [
      "The probability that 5 attempts are necessary for a successful call : 0.0407\n"
     ]
    }
   ],
   "source": [
    "\n",
    "p = 0.05                               # probability of a connection during busy time       \n",
    "x = 5                                  # Let x deontes number of attempts for  first conncection\n",
    "prob = round(geom.pmf(x, p), 4)        # Compute probabilites corresponding to random variable x\n",
    "print('The probability that 5 attempts are necessary for a successful call :', prob)"
   ]
  },
  {
   "cell_type": "code",
   "execution_count": null,
   "metadata": {
    "collapsed": true
   },
   "outputs": [],
   "source": []
  }
 ],
 "metadata": {
  "kernelspec": {
   "display_name": "Python 3 (ipykernel)",
   "language": "python",
   "name": "python3"
  },
  "language_info": {
   "codemirror_mode": {
    "name": "ipython",
    "version": 3
   },
   "file_extension": ".py",
   "mimetype": "text/x-python",
   "name": "python",
   "nbconvert_exporter": "python",
   "pygments_lexer": "ipython3",
   "version": "3.9.12"
  }
 },
 "nbformat": 4,
 "nbformat_minor": 2
}
